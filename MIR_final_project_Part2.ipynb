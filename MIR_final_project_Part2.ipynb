{
  "nbformat": 4,
  "nbformat_minor": 0,
  "metadata": {
    "colab": {
      "name": "MIR_final_project_Part2.ipynb",
      "provenance": []
    },
    "kernelspec": {
      "name": "python2",
      "display_name": "Python 2"
    },
    "language_info": {
      "name": "python"
    }
  },
  "cells": [
    {
      "cell_type": "markdown",
      "metadata": {
        "id": "7DZuUMqMdWa8"
      },
      "source": [
        "**Note**:\n",
        "\n",
        "*   The following notebook is a continuation of MIR_final_project_Part1.pynb. Please refer to the first notebook for implementation of dataloaders.\n",
        "*   The following notebook works error-free on Python 2.7. Please select \"python 2\" in the \"Change runtime type\" in the Google Colaboratory widget bar."
      ]
    },
    {
      "cell_type": "markdown",
      "metadata": {
        "id": "OXEy7Iiuc84N"
      },
      "source": [
        "#Evaluating Robustness of Audio Fingerprinting Methods\n",
        "The following notebook is presented by Aditya Bhattacharjee as part of the final project of Music Information Retrieval. The notebook is divided into two parts:\n",
        "\n",
        "\n",
        "*   Part 1: Loading the Dataset\n",
        "*   Part 2: Evaluating the Qfp framework\n",
        "\n",
        "\n",
        "This python notebook aims to be self-explanatory and should be run in a Google Colaboratory environment. **Please select \"python 2\" in the \"Change runtime type\" in the Google Colaboratory widget bar.**\n"
      ]
    },
    {
      "cell_type": "markdown",
      "metadata": {
        "id": "ULRqgyvWc1ZM"
      },
      "source": [
        "##Loading the Dataset\n",
        "The dataset used in this project is the GTZAN Genre Classification dataset. The dataset contains 1000 audio pieces, each of which are 30 seconds long. Further details about the dataset has been discussed in the report for this project.\n",
        "\n"
      ]
    },
    {
      "cell_type": "code",
      "metadata": {
        "colab": {
          "base_uri": "https://localhost:8080/"
        },
        "id": "8R2X67t2bWei",
        "outputId": "20bddb5c-8d2d-43e5-c5ed-fabd2901dc44"
      },
      "source": [
        "!pip install ffmpeg \n",
        "!pip install pydub"
      ],
      "execution_count": null,
      "outputs": [
        {
          "output_type": "stream",
          "text": [
            "Collecting ffmpeg\n",
            "  Downloading https://files.pythonhosted.org/packages/f0/cc/3b7408b8ecf7c1d20ad480c3eaed7619857bf1054b690226e906fdf14258/ffmpeg-1.4.tar.gz\n",
            "Building wheels for collected packages: ffmpeg\n",
            "  Building wheel for ffmpeg (setup.py) ... \u001b[?25l\u001b[?25hdone\n",
            "  Created wheel for ffmpeg: filename=ffmpeg-1.4-cp27-none-any.whl size=6085 sha256=0bf547f79daf9699d583a605b66f7857a4b1b112911d350b79110ec2b8a77924\n",
            "  Stored in directory: /root/.cache/pip/wheels/b6/68/c3/a05a35f647ba871e5572b9bbfc0b95fd1c6637a2219f959e7a\n",
            "Successfully built ffmpeg\n",
            "Installing collected packages: ffmpeg\n",
            "Successfully installed ffmpeg-1.4\n",
            "Collecting pydub\n",
            "  Downloading https://files.pythonhosted.org/packages/a6/53/d78dc063216e62fc55f6b2eebb447f6a4b0a59f55c8406376f76bf959b08/pydub-0.25.1-py2.py3-none-any.whl\n",
            "Installing collected packages: pydub\n",
            "Successfully installed pydub-0.25.1\n",
            "\u001b[31mERROR: Could not find a version that satisfies the requirement difflib (from versions: none)\u001b[0m\n",
            "\u001b[31mERROR: No matching distribution found for difflib\u001b[0m\n",
            "Cloning into 'qfp'...\n",
            "remote: Enumerating objects: 453, done.\u001b[K\n",
            "remote: Total 453 (delta 0), reused 0 (delta 0), pack-reused 453\u001b[K\n",
            "Receiving objects: 100% (453/453), 284.64 KiB | 2.74 MiB/s, done.\n",
            "Resolving deltas: 100% (260/260), done.\n",
            "Processing ./qfp\n",
            "Requirement already satisfied: pydub in /usr/local/lib/python2.7/dist-packages (from qfp==0.1) (0.25.1)\n",
            "Requirement already satisfied: numpy in /usr/local/lib/python2.7/dist-packages (from qfp==0.1) (1.16.4)\n",
            "Requirement already satisfied: scipy in /usr/local/lib/python2.7/dist-packages (from qfp==0.1) (1.2.2)\n",
            "Collecting bitstring\n",
            "\u001b[?25l  Downloading https://files.pythonhosted.org/packages/c3/fc/ffac2c199d2efe1ec5111f55efeb78f5f2972456df6939fea849f103f9f5/bitstring-3.1.7.tar.gz (195kB)\n",
            "\u001b[K     |████████████████████████████████| 204kB 6.4MB/s \n",
            "\u001b[?25hBuilding wheels for collected packages: qfp, bitstring\n",
            "  Building wheel for qfp (setup.py) ... \u001b[?25l\u001b[?25hdone\n",
            "  Created wheel for qfp: filename=qfp-0.1-cp27-none-any.whl size=9315 sha256=2cd943aa10d9d14b2a5ad784cd333c394f68d29914f44129401f0d1f03fc4c35\n",
            "  Stored in directory: /tmp/pip-ephem-wheel-cache-peopUJ/wheels/d6/ef/ed/162627fc52548f9b221031d4a615667a077242b6a9baab17ba\n",
            "  Building wheel for bitstring (setup.py) ... \u001b[?25l\u001b[?25hdone\n",
            "  Created wheel for bitstring: filename=bitstring-3.1.7-cp27-none-any.whl size=37948 sha256=cdba7f68fc29f5773c5b1082fff365639e0da4d4f41f7e4a7544e36058b0742c\n",
            "  Stored in directory: /root/.cache/pip/wheels/b8/27/f0/8373e26b7de57db03dc18aaaebdd8c26a99da882416f762979\n",
            "Successfully built qfp bitstring\n",
            "Installing collected packages: bitstring, qfp\n",
            "Successfully installed bitstring-3.1.7 qfp-0.1\n"
          ],
          "name": "stdout"
        }
      ]
    },
    {
      "cell_type": "code",
      "metadata": {
        "id": "HTgPKed7fGo2"
      },
      "source": [
        "import ffmpeg\n",
        "import os \n",
        "import shutil\n",
        "import random\n",
        "import numpy as np\n",
        "import matplotlib.pyplot as plt\n",
        "import random\n",
        "import pickle\n",
        "from pydub import AudioSegment\n",
        "import pandas as pd\n",
        "import unicodedata"
      ],
      "execution_count": null,
      "outputs": []
    },
    {
      "cell_type": "markdown",
      "metadata": {
        "id": "7ETK3FDufW9g"
      },
      "source": [
        "Assuming that the GTZAN dataset has been loaded into the Google drive in the previous notebook, we will mount the drive and proceed with the evaluation. The implementation of the Qfp framework is a debugged version of this github [repository](https://github.com/mbortnyck/qfp). Please download the repo from [here](https://drive.google.com/file/d/1wF0ORwCU_5tY1_h3fCJ8EGlP4km2khv1/view?usp=sharing) and upload in the next cell. "
      ]
    },
    {
      "cell_type": "code",
      "metadata": {
        "colab": {
          "base_uri": "https://localhost:8080/"
        },
        "id": "zno8gqyqfPnV",
        "outputId": "af4fa6c1-8b3b-49bc-96ea-93188c32089e"
      },
      "source": [
        "# Mounting google drive and loading required noise samples from url\n",
        "\n",
        "from google.colab import drive,files\n",
        "drive.mount('/gdrive',force_remount=True)\n",
        "print(\"Please upload zip file from the link provided above\")\n",
        "files.upload()\n",
        "!unzip /content/Quad.zip"
      ],
      "execution_count": null,
      "outputs": [
        {
          "output_type": "stream",
          "text": [
            "Mounted at /gdrive\n"
          ],
          "name": "stdout"
        }
      ]
    },
    {
      "cell_type": "markdown",
      "metadata": {
        "id": "2c74DTGDp_kX"
      },
      "source": [
        "Please move the `/content/Quad/qfp` directory to `/content`. This way installation can run error free"
      ]
    },
    {
      "cell_type": "code",
      "metadata": {
        "id": "ucTzRUPvp9B6"
      },
      "source": [
        "!pip install /content/qfp\n",
        "import qfp\n",
        "from qfp.db import QfpDB"
      ],
      "execution_count": null,
      "outputs": []
    },
    {
      "cell_type": "markdown",
      "metadata": {
        "id": "41QZ-j_SgRIv"
      },
      "source": [
        "# Evaluation the Qfp framework\n",
        "\n"
      ]
    },
    {
      "cell_type": "code",
      "metadata": {
        "id": "uOpooKI2gN-A"
      },
      "source": [
        "path = \"/gdrive/MyDrive/gtzan_genre/genres\""
      ],
      "execution_count": null,
      "outputs": []
    },
    {
      "cell_type": "code",
      "metadata": {
        "id": "pwsDKG1cntf4"
      },
      "source": [
        "# Utility functions\n",
        "def build_fingerprint_database(dirpath):\n",
        "    \"\"\"\n",
        "    Build database from directory of audio files\n",
        "    \"\"\"\n",
        "    database = QfpDB()\n",
        "    c = 0\n",
        "    print('Processing {}..'.format(dirpath))\n",
        "    for filename in os.listdir(dirpath):\n",
        "        if os.path.isfile(os.path.join(dirpath,filename))\n",
        "          fp_r = qfp.ReferenceFingerprint(os.path.join(dirpath,filename))\n",
        "          fp_r.create()\n",
        "          database.store(fp_r, filename)\n",
        "          if c % 50 == 0 : print(str(c)+\" out of 1000\")\n",
        "          c+=1\n",
        "    return database\n",
        "\n",
        "def sample_audio_chunks(no_of_files,chunk_size):\n",
        "    \"\"\"\n",
        "    Create a directory containing randomly sampled chunks of audio files\n",
        "    \"\"\"\n",
        "    dirpath = dirpath = os.path.join(path, 'Sampled_chunk_('+ str(chunk_size) + 'seconds)')\n",
        "    if not os.path.exists(dirpath):\n",
        "      files = os.listdir(path)\n",
        "      os.mkdir(dirpath)\n",
        "      for file_name in random.sample(files, no_of_files):\n",
        "        shutil.copy(os.path.join(path, file_name), dirpath)\n",
        "      filenames = next(os.walk(dirpath))[2] \n",
        "      for f in filenames:\n",
        "        fpath = os.path.join(dirpath,f)\n",
        "        song = AudioSegment.from_wav(fpath)\n",
        "        offset = random.randrange(0,len(song)-chunk_size*1000)\n",
        "        chunk = song[offset : offset + chunk_size*1000]\n",
        "        os.remove(fpath)\n",
        "        chunk.export(dirpath+\"/\"+f, format=\"wav\")\n",
        "    return dirpath\n",
        "\n",
        "def sample_audio_chunks2(chunk_size,src):\n",
        "    \"\"\"\n",
        "    Create a directory containing randomly sampled chunks of audio files\n",
        "    \"\"\"\n",
        "    dirpath = dirpath = os.path.join(src, 'Sampled_chunk_('+ str(chunk_size) + 'seconds)')\n",
        "    if not os.path.exists(dirpath):\n",
        "      os.mkdir(dirpath)\n",
        "      for f in os.listdir(src):\n",
        "        fpath = os.path.join(src,f)\n",
        "        if os.path.isfile(fpath):\n",
        "          song = AudioSegment.from_wav(fpath)\n",
        "          offset = random.randrange(0,len(song)-chunk_size*1000)\n",
        "          chunk = song[offset : offset + chunk_size*1000]\n",
        "          chunk.export(dirpath+\"/\"+f, format=\"wav\")\n",
        "    return dirpath\n",
        "\n"
      ],
      "execution_count": null,
      "outputs": []
    },
    {
      "cell_type": "markdown",
      "metadata": {
        "id": "0kfDN7NG5cmy"
      },
      "source": [
        "The following database is created in about 25 minutes. \n",
        "\n",
        "The fingerprint database is created as a `sqlite3` database. However, the variable provided returned by the `build_fingerprint_database` function implemented below, is an instance of the class in the `qfp` library. Therefore, the file cannot be loaded externally. \n",
        "\n",
        "For an uploaded database to be instantiated as a `QfpDB` type object, changes need to be made in the source code of the library. Unfortunately, this has resulted in dependency issues and hence has not been implemented as a part of this project.\n"
      ]
    },
    {
      "cell_type": "code",
      "metadata": {
        "id": "LXVd8Dk9uhX-"
      },
      "source": [
        "database = build_fingerprint_database(path)"
      ],
      "execution_count": null,
      "outputs": []
    },
    {
      "cell_type": "code",
      "metadata": {
        "id": "Srgwofzh7oxX"
      },
      "source": [
        "src_path = \"/gdrive/MyDrive/gtzan_genre/genres\""
      ],
      "execution_count": null,
      "outputs": []
    },
    {
      "cell_type": "markdown",
      "metadata": {
        "id": "mhuuOCzv7PwQ"
      },
      "source": [
        "## Effect of superposition of noise\n",
        "We compute a query sample set which has been transformed in the following ways:\n",
        "\n",
        "\n",
        "*   **Superposition of noise**: `ambient-pub.wav` is superimposed with the query audio to give create a noisy environment\n",
        "*   **Convolution of IR filter** : convolution with `ir_hall.wav` simulates the reverberation in an empty octagonal auditorium.\n",
        "\n",
        "Due to the compatibility issue, we have computed and degraded the query samples in Part 1 in the previous notebook."
      ]
    },
    {
      "cell_type": "code",
      "metadata": {
        "id": "VY7hS97y_WTh"
      },
      "source": [
        "# Calculating hit rate for non-degraded 25 second samples\n",
        "hit_rate = []\n",
        "CHUNK = [15,20,25]\n",
        "sample_size = 200\n",
        "for i in range(3):\n",
        "  hit = 0\n",
        "  dirpath = sample_audio_chunks(sampe_size,CHUNK[i])\n",
        "  for filename in os.listdir(dirpath):\n",
        "    fp_q = qfp.QueryFingerprint(os.path.join(dirpath,filename))\n",
        "    fp_q.create()\n",
        "    database.query(fp_q)\n",
        "    if len(fp_q.matches) != 0 and unicodedata.normalize('NFKD', fp_q.matches[0].record).encode('ascii', 'ignore') == filename:\n",
        "      hit += 1\n",
        "  hit_rate.append(hit)"
      ],
      "execution_count": null,
      "outputs": []
    },
    {
      "cell_type": "code",
      "metadata": {
        "id": "ADd-C-Yu9gI_"
      },
      "source": [
        "# Calculating the hit rate for audio degraded samples \n",
        "hit_rate_deg = []\n",
        "src = '/gdrive/MyDrive/gtzan_genre/sampled_audio_degraded_'\n",
        "CHUNK = [15,20,25]\n",
        "for i in range(3):\n",
        "  hit = 0\n",
        "  dirpath = sample_audio_chunks2(CHUNK[i],src)\n",
        "  for filename in os.listdir(dirpath):\n",
        "    fp_q = qfp.QueryFingerprint(os.path.join(dirpath,filename))\n",
        "    fp_q.create()\n",
        "    database.query(fp_q)\n",
        "    if len(fp_q.matches) != 0 and unicodedata.normalize('NFKD', fp_q.matches[0].record).encode('ascii', 'ignore') == filename:\n",
        "      hit += 1\n",
        "  hit_rate_deg.append(hit)"
      ],
      "execution_count": null,
      "outputs": []
    },
    {
      "cell_type": "code",
      "metadata": {
        "colab": {
          "base_uri": "https://localhost:8080/",
          "height": 350
        },
        "id": "r4BA4Jer5Zgf",
        "outputId": "ece5a4fd-11da-41c1-e91a-d1accc85910e"
      },
      "source": [
        "y1 = np.array(hit_rate)\n",
        "y2 = np.array(hit_rate_deg)\n",
        "_X = np.arange(3)\n",
        "plt.figure(figsize=[10,5])\n",
        "\n",
        "plt.title(\"Effect of degradation of query audio\")\n",
        "plt.bar(_X - 0.1, y1*100.0/sample_size, 0.2,label=\"Non-degraded query\")\n",
        "plt.bar(_X + 0.1, y2*100.0/sample_size, 0.2,label=\"Degraded query\")\n",
        "plt.xticks(_X, CHUNK)\n",
        "plt.xlabel(\"Size of query sample\")\n",
        "plt.ylabel(\"Hit rate (Percentage)\")\n",
        "plt.legend()\n",
        "plt.show()"
      ],
      "execution_count": null,
      "outputs": [
        {
          "output_type": "display_data",
          "data": {
            "image/png": "[encoded data removed]",
            "text/plain": [
              "<Figure size 720x360 with 1 Axes>"
            ]
          },
          "metadata": {
            "tags": [],
            "needs_background": "light"
          }
        }
      ]
    },
    {
      "cell_type": "markdown",
      "metadata": {
        "id": "lylcOpSe77bf"
      },
      "source": [
        "## Robustnes to pitch-shift and time-stretch\n",
        "\n",
        "Pitch-shift and time-stretch is computed using the `audio_degrader` library. The effect of pitch-shift is tested for query samples computed with different pitch-shift factors. The chunk size of the query audio is 25 seconds. The hit rate observed are plotted."
      ]
    },
    {
      "cell_type": "code",
      "metadata": {
        "id": "JQLHckNe8AHS"
      },
      "source": [
        "# Calculating the hit rate for audio degraded samples \n",
        "hit_rate_pitch_shift = []\n",
        "src = '/gdrive/MyDrive/gtzan_genre'\n",
        "FACTOR = [0.5,0.75,1,1.25,1.5]  # Pitch shift factor (multiplicative)\n",
        "for i in range(5):\n",
        "  hit = 0\n",
        "  dirpath = sample_audio_chunks2(FACTOR[i], src + '/sampled_audio_pitch_shift_' + str(FACTOR[i]))\n",
        "  for filename in os.listdir(dirpath):\n",
        "    fp_q = qfp.QueryFingerprint(os.path.join(dirpath,filename))\n",
        "    try:\n",
        "      fp_q.create()\n",
        "    except IndexError:\n",
        "      continue\n",
        "    database.query(fp_q)\n",
        "    if len(fp_q.matches) != 0 and unicodedata.normalize('NFKD', fp_q.matches[0].record).encode('ascii', 'ignore') == filename:\n",
        "      hit += 1\n",
        "  hit_rate_pitch_shift.append(hit)"
      ],
      "execution_count": null,
      "outputs": []
    },
    {
      "cell_type": "code",
      "metadata": {
        "colab": {
          "base_uri": "https://localhost:8080/"
        },
        "id": "FsfQoLpAE8m5",
        "outputId": "caadffac-3da8-448c-b055-74c90a4c24fe"
      },
      "source": [
        "hit_rate_pitch_shift"
      ],
      "execution_count": null,
      "outputs": [
        {
          "output_type": "execute_result",
          "data": {
            "text/plain": [
              "[0, 0, 0, 0, 0]"
            ]
          },
          "metadata": {
            "tags": []
          },
          "execution_count": 84
        }
      ]
    },
    {
      "cell_type": "markdown",
      "metadata": {
        "id": "FXWrSXHoFJxD"
      },
      "source": [
        "It appears from this implementation that there are no hits in the case of pitch-shifts. It is possible that this occurs due to problems with the way the library has been implemented."
      ]
    },
    {
      "cell_type": "code",
      "metadata": {
        "id": "hWCfrGgAFgm0"
      },
      "source": [
        "hit_rate_time_stretch = []\n",
        "src = '/gdrive/MyDrive/gtzan_genre'\n",
        "FACTOR = [0.5,0.75,1,1.25,1.5]  # Time stretch factor (multiplicative)\n",
        "for i in range(5):\n",
        "  hit = 0\n",
        "  dirpath = sample_audio_chunks2(FACTOR[i], src + '/sampled_audio_time_stretch_' + str(FACTOR[i]))\n",
        "  for filename in os.listdir(dirpath):\n",
        "    fp_q = qfp.QueryFingerprint(os.path.join(dirpath,filename))\n",
        "    try:\n",
        "      fp_q.create()\n",
        "    except IndexError:\n",
        "      continue\n",
        "    database.query(fp_q)\n",
        "    if len(fp_q.matches) != 0 and unicodedata.normalize('NFKD', fp_q.matches[0].record).encode('ascii', 'ignore') == filename:\n",
        "      hit += 1\n",
        "  hit_rate_time_stretch.append(hit)"
      ],
      "execution_count": null,
      "outputs": []
    },
    {
      "cell_type": "code",
      "metadata": {
        "colab": {
          "base_uri": "https://localhost:8080/"
        },
        "id": "p7UNS4hYHBcY",
        "outputId": "cf0c662f-dc3c-43df-dd00-a27a7a823c0d"
      },
      "source": [
        "hit_rate_time_stretch"
      ],
      "execution_count": null,
      "outputs": [
        {
          "output_type": "execute_result",
          "data": {
            "text/plain": [
              "[0, 0, 0, 0, 0]"
            ]
          },
          "metadata": {
            "tags": []
          },
          "execution_count": 88
        }
      ]
    }
  ]
}